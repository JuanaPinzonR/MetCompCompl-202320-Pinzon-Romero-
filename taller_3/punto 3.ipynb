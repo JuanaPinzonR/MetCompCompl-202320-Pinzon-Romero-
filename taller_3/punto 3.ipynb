{
 "cells": [
  {
   "cell_type": "code",
   "execution_count": 1,
   "metadata": {},
   "outputs": [
    {
     "name": "stdout",
     "output_type": "stream",
     "text": [
      "Frecuencia máxima: 3.5328091794502363\n",
      "Amplitudes asociadas a la frecuencia máxima: [0.67420479 0.5435512  0.5       ]\n",
      "Frecuencia mínima: nan\n",
      "Amplitudes asociadas a la frecuencia mínima: [ 0.85067538 -0.16233116 -0.5       ]\n"
     ]
    },
    {
     "name": "stderr",
     "output_type": "stream",
     "text": [
      "<ipython-input-1-a9901da02a30>:33: RuntimeWarning: invalid value encountered in sqrt\n",
      "  omega_min = np.sqrt(min(omega))\n"
     ]
    }
   ],
   "source": [
    "import numpy as np\n",
    "\n",
    "# Definir valores \n",
    "m1 = 1.0\n",
    "m2 = 2.0\n",
    "m3 = 3.0\n",
    "k11 = 4.0\n",
    "k12 = 5.0\n",
    "k13 = 6.0\n",
    "k21 = 7.0\n",
    "k22 = 8.0\n",
    "k23 = 9.0\n",
    "k31 = 10.0\n",
    "k32 = 11.0\n",
    "k33 = 12.0\n",
    "\n",
    "M = np.array([[m1, 0, 0],\n",
    "              [0, m2, 0],\n",
    "              [0, 0, m3]])\n",
    "\n",
    "K = np.array([[k11, k12, k13],\n",
    "              [k21, k22, k23],\n",
    "              [k31, k32, k33]])\n",
    "\n",
    "\n",
    "A = np.linalg.inv(M).dot(K)\n",
    "\n",
    "\n",
    "omega, c_modes = np.linalg.eig(A)\n",
    "\n",
    "\n",
    "omega_max = np.sqrt(max(omega))\n",
    "omega_min = np.sqrt(min(omega))\n",
    "\n",
    "\n",
    "c_max = c_modes[:, np.argmax(omega)]\n",
    "c_min = c_modes[:, np.argmin(omega)]\n",
    "\n",
    "print(\"Frecuencia máxima:\", omega_max)\n",
    "print(\"Amplitudes asociadas a la frecuencia máxima:\", c_max)\n",
    "print(\"Frecuencia mínima:\", omega_min)\n",
    "print(\"Amplitudes asociadas a la frecuencia mínima:\", c_min)\n"
   ]
  }
 ],
 "metadata": {
  "kernelspec": {
   "display_name": "base",
   "language": "python",
   "name": "python3"
  },
  "language_info": {
   "codemirror_mode": {
    "name": "ipython",
    "version": 3
   },
   "file_extension": ".py",
   "mimetype": "text/x-python",
   "name": "python",
   "nbconvert_exporter": "python",
   "pygments_lexer": "ipython3",
   "version": "3.8.5"
  },
  "orig_nbformat": 4
 },
 "nbformat": 4,
 "nbformat_minor": 2
}
